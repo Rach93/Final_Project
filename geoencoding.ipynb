{
 "cells": [
  {
   "cell_type": "markdown",
   "metadata": {},
   "source": [
    "## Geoencoding\n",
    "\n",
    "This script finds the geographical coordinates i.e. latitude and longitude for each address."
   ]
  },
  {
   "cell_type": "code",
   "execution_count": null,
   "metadata": {},
   "outputs": [],
   "source": [
    "import pandas as pd\n",
    "import googlemaps\n",
    "import time\n",
    "\n",
    "f = open(\"google_maps_api.txt\", \"r\")\n",
    "api_key=f.read()\n",
    "\n",
    "gmaps = googlemaps.Client(key=api_key)\n",
    "\n",
    "df=pd.read_csv(r\"C:\\Users\\17059\\Desktop\\Final Project\\zoocasa\\houses_files\\active\\active_2019-11-06_233947.csv\")"
   ]
  },
  {
   "cell_type": "code",
   "execution_count": null,
   "metadata": {},
   "outputs": [],
   "source": [
    "df=df1[:1000]"
   ]
  },
  {
   "cell_type": "code",
   "execution_count": null,
   "metadata": {},
   "outputs": [],
   "source": [
    "print(df)"
   ]
  },
  {
   "cell_type": "code",
   "execution_count": null,
   "metadata": {},
   "outputs": [],
   "source": [
    "Address=df[\"Address\"].tolist()\n",
    "df_address = pd.DataFrame(Address, columns=['Address'])"
   ]
  },
  {
   "cell_type": "code",
   "execution_count": null,
   "metadata": {},
   "outputs": [],
   "source": [
    "print(df_address)"
   ]
  },
  {
   "cell_type": "code",
   "execution_count": null,
   "metadata": {},
   "outputs": [],
   "source": [
    "def get_lat_lon(Address):\n",
    "    \n",
    "    geocode_result = gmaps.geocode(Address)\n",
    "    \n",
    "    # check to see if the result is empty and if so return zeros to indicate unparseable junction value\n",
    "    if len(geocode_result) > 0:\n",
    "        locs = geocode_result[0][\"geometry\"][\"location\"]\n",
    "        return [locs[\"lat\"], locs[\"lng\"]]\n",
    "    else:\n",
    "        return [0.0,0.0]"
   ]
  },
  {
   "cell_type": "code",
   "execution_count": null,
   "metadata": {},
   "outputs": [],
   "source": [
    "df_address['lat_lng'] = df_address['Address'].apply(get_lat_lon)"
   ]
  },
  {
   "cell_type": "code",
   "execution_count": null,
   "metadata": {},
   "outputs": [],
   "source": [
    "print(df_address)"
   ]
  },
  {
   "cell_type": "code",
   "execution_count": null,
   "metadata": {},
   "outputs": [],
   "source": [
    "df_final = pd.merge(df, df_address, on=\"Address\", how='left')\n",
    "print(df_final)"
   ]
  },
  {
   "cell_type": "code",
   "execution_count": null,
   "metadata": {},
   "outputs": [],
   "source": [
    "df_final[['lat','lng']] = pd.DataFrame(df_final.lat_lng.values.tolist(), index=df_final.index)\n",
    "print(df_final)"
   ]
  },
  {
   "cell_type": "code",
   "execution_count": null,
   "metadata": {},
   "outputs": [],
   "source": [
    "type(df_final)"
   ]
  },
  {
   "cell_type": "code",
   "execution_count": null,
   "metadata": {},
   "outputs": [],
   "source": [
    "file_name = \"leased_geocoded_%s_%s.csv\" % (str(time.strftime(\"%Y-%m-%d\")),str(time.strftime(\"%H%M%S\")))\n",
    "pd.DataFrame(df_final).to_csv(file_name, index = False, encoding = \"UTF-8\",header=True)"
   ]
  },
  {
   "cell_type": "code",
   "execution_count": null,
   "metadata": {},
   "outputs": [],
   "source": [
    "geocode_result = gmaps.geocode(\"138 Coho St Whitby, Ontario Canada\")"
   ]
  },
  {
   "cell_type": "code",
   "execution_count": null,
   "metadata": {
    "scrolled": true
   },
   "outputs": [],
   "source": [
    "geocode_result[0]"
   ]
  },
  {
   "cell_type": "code",
   "execution_count": null,
   "metadata": {},
   "outputs": [],
   "source": [
    "loc=geocode_result[0][\"address_components\"][-1]"
   ]
  },
  {
   "cell_type": "code",
   "execution_count": null,
   "metadata": {},
   "outputs": [],
   "source": [
    "loc[\"long_name\"]"
   ]
  }
 ],
 "metadata": {
  "kernelspec": {
   "display_name": "Python 3",
   "language": "python",
   "name": "python3"
  },
  "language_info": {
   "codemirror_mode": {
    "name": "ipython",
    "version": 3
   },
   "file_extension": ".py",
   "mimetype": "text/x-python",
   "name": "python",
   "nbconvert_exporter": "python",
   "pygments_lexer": "ipython3",
   "version": "3.7.1"
  }
 },
 "nbformat": 4,
 "nbformat_minor": 2
}
