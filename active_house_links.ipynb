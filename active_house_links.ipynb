{
 "cells": [
  {
   "cell_type": "markdown",
   "metadata": {},
   "source": [
    "# Active House Links\n",
    "\n",
    "This script scrapes house links for active listing on the Zoocasa website"
   ]
  },
  {
   "cell_type": "code",
   "execution_count": null,
   "metadata": {},
   "outputs": [],
   "source": [
    "#importing necessary libraries\n",
    "import requests\n",
    "from bs4 import BeautifulSoup\n",
    "import regex as re\n",
    "import time"
   ]
  },
  {
   "cell_type": "code",
   "execution_count": null,
   "metadata": {},
   "outputs": [],
   "source": [
    "f = open(r'C:\\Users\\17059\\Desktop\\Final Project\\zoocasa\\house_links\\active\\active_house_links.txt', 'r')\n",
    "x = f.readlines()\n",
    "f.close()\n",
    "\n",
    "mylist = []\n",
    "\n",
    "for line in x:\n",
    "    mylist.append(line.rstrip('\\n'))\n",
    "    \n",
    "print(mylist)"
   ]
  },
  {
   "cell_type": "code",
   "execution_count": null,
   "metadata": {},
   "outputs": [],
   "source": [
    "#initializing an empty list\n",
    "house_links = []\n",
    "\n",
    "#filtering regions in Toronto\n",
    "re1=\"toronto-on\"\n",
    "re2=\"burlington-on\"\n",
    "re3=\"milton-on\"\n",
    "re4=\"mississauga-on\"\n",
    "re5=\"brampton-on\"\n",
    "re6=\"caledon-on\"\n",
    "re7=\"king-on\"\n",
    "re8=\"vaughan-on\"\n",
    "re9=\"markham-on\"\n",
    "re10=\"stouffville-on\"\n",
    "re11=\"pickering-on\"\n",
    "re12=\"ajax-on\"\n",
    "re13=\"whitby-on\"\n",
    "re14=\"oshawa-on\"\n",
    "re15=\"clarington-on\"\n",
    "re16=\"newmarket-on\"\n",
    "re17=\"richmond-hill-on\"\n",
    "re18=\"east-gwillimbury-on\"\n",
    "re19=\"oakville-on\"\n",
    "re20=\"aurora-on\"\n",
    "re21=\"brock-on\"\n",
    "re22=\"uxbridge-on\"\n",
    "re23=\"scugog-on\"\n",
    "re24=\"georgina-on\"\n",
    "re25=\"halton-hills-on\"\n",
    "\n",
    "for i in range(165):\n",
    "    url=\"https://www.zoocasa.com/houses-for-rent\"+\"?page=\"+str(i)\n",
    "    page = requests.get(url)\n",
    "    soup = BeautifulSoup(page.text,'html.parser')\n",
    "    listings = soup.find_all(\"a\", href=re.compile(\"(%s|%s|%s|%s|%s|%s|%s|%s|%s|%s|%s|%s|%s|%s|%s|%s|%s|%s|%s|%s|%s|%s|%s|%s|%s)\" % (re1, re2, re3, re4, re5, re6, re7, re8, re9, re10, re11, re12, re13, re14, re15, re16, re17, re18, re19, re20, re21, re22, re23, re24, re25)))\n",
    "    for row in listings:\n",
    "        page_data = 'https://www.zoocasa.com'+row['href']\n",
    "        if page_data not in mylist:\n",
    "            house_links.append(page_data)"
   ]
  },
  {
   "cell_type": "code",
   "execution_count": null,
   "metadata": {},
   "outputs": [],
   "source": [
    "#print house_links\n",
    "print(house_links)"
   ]
  },
  {
   "cell_type": "code",
   "execution_count": null,
   "metadata": {},
   "outputs": [],
   "source": [
    "print(len(house_links))"
   ]
  },
  {
   "cell_type": "code",
   "execution_count": null,
   "metadata": {},
   "outputs": [],
   "source": [
    "#Removing duplicate house links\n",
    "house_links2 = list( dict.fromkeys(house_links) )\n",
    "print(len(house_links2))"
   ]
  },
  {
   "cell_type": "code",
   "execution_count": null,
   "metadata": {},
   "outputs": [],
   "source": [
    "#house_links2=sorted(test)"
   ]
  },
  {
   "cell_type": "code",
   "execution_count": null,
   "metadata": {},
   "outputs": [],
   "source": [
    "file_name = r\"C:\\Users\\17059\\Desktop\\Final Project\\zoocasa\\house_links\\active\\active_house_links_%s_%s.txt\" % (str(time.strftime(\"%Y-%m-%d\")),str(time.strftime(\"%H%M%S\")))\n",
    "with open(file_name, 'a') as f:\n",
    "    for item in house_links2:\n",
    "        f.write(\"%s\\n\" % item)"
   ]
  }
 ],
 "metadata": {
  "kernelspec": {
   "display_name": "Python 3",
   "language": "python",
   "name": "python3"
  },
  "language_info": {
   "codemirror_mode": {
    "name": "ipython",
    "version": 3
   },
   "file_extension": ".py",
   "mimetype": "text/x-python",
   "name": "python",
   "nbconvert_exporter": "python",
   "pygments_lexer": "ipython3",
   "version": "3.7.1"
  }
 },
 "nbformat": 4,
 "nbformat_minor": 2
}
