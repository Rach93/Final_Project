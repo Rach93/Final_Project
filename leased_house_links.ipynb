{
 "cells": [
  {
   "cell_type": "markdown",
   "metadata": {},
   "source": [
    "## Leased House Links\n",
    "\n",
    "This script scrapes house links for listing that have been leased on the Zoocasa website"
   ]
  },
  {
   "cell_type": "code",
   "execution_count": null,
   "metadata": {},
   "outputs": [],
   "source": [
    "#importing necessary libraries\n",
    "import requests\n",
    "from bs4 import BeautifulSoup\n",
    "import regex as re\n",
    "import time"
   ]
  },
  {
   "cell_type": "code",
   "execution_count": null,
   "metadata": {},
   "outputs": [],
   "source": [
    "import os\n",
    "from bs4 import BeautifulSoup\n",
    "from selenium import webdriver\n",
    "import sys\n",
    "import numpy as np\n",
    "import pandas as pd"
   ]
  },
  {
   "cell_type": "code",
   "execution_count": null,
   "metadata": {},
   "outputs": [],
   "source": [
    "f = open('zoocasa_house_links_2019-10-06_213954.txt', 'r')\n",
    "x = f.readlines()\n",
    "f.close()\n",
    "\n",
    "mylist = []\n",
    "\n",
    "for line in x:\n",
    "    mylist.append(line.rstrip('\\n'))\n",
    "    \n",
    "#print(mylist)"
   ]
  },
  {
   "cell_type": "code",
   "execution_count": null,
   "metadata": {},
   "outputs": [],
   "source": [
    "#filtering regions in Toronto\n",
    "re1=\"toronto-on\"\n",
    "re2=\"burlington-on\"\n",
    "re3=\"milton-on\"\n",
    "re4=\"mississauga-on\"\n",
    "re5=\"brampton-on\"\n",
    "re6=\"caledon-on\"\n",
    "re7=\"king-on\"\n",
    "re8=\"vaughan-on\"\n",
    "re9=\"markham-on\"\n",
    "re10=\"stouffville-on\"\n",
    "re11=\"pickering-on\"\n",
    "re12=\"ajax-on\"\n",
    "re13=\"whitby-on\"\n",
    "re14=\"oshawa-on\"\n",
    "re15=\"clarington-on\"\n",
    "re16=\"newmarket-on\"\n",
    "re17=\"richmond-hill-on\"\n",
    "re18=\"east-gwillimbury-on\"\n",
    "re19=\"oakville-on\"\n",
    "re20=\"aurora-on\"\n",
    "re21=\"brock-on\"\n",
    "re22=\"uxbridge-on\"\n",
    "re23=\"scugog-on\"\n",
    "re24=\"georgina-on\"\n",
    "re25=\"halton-hills-on\""
   ]
  },
  {
   "cell_type": "code",
   "execution_count": null,
   "metadata": {},
   "outputs": [],
   "source": [
    "chromedriver = r\"C:\\Users\\17059\\Downloads\\chromedriver_win32\\chromedriver\" # path to the chromedriver executable\n",
    "driver = webdriver.Chrome(chromedriver)\n",
    "\n",
    "house_links = []\n",
    "url=\"https://www.zoocasa.com/houses-for-rent\"\n",
    "driver.get(url)\n",
    "time.sleep(5)\n",
    "drop_down = driver.find_element_by_xpath('/html/body/div[3]/div/div/dynamic-listings-page/header/listing-inputs/filter-inputs/drop-down[2]/span/span').click()\n",
    "time.sleep(5)\n",
    "leased_button = driver.find_element_by_xpath('/html/body/div[3]/div/div/dynamic-listings-page/header/listing-inputs/filter-inputs/drop-down[2]/div/radio-buttons/div/span[2]').click()\n",
    "time.sleep(5) \n",
    "soup = BeautifulSoup(driver.page_source, 'html.parser') \n",
    "\n",
    "for i in range(0,2):\n",
    "    listings = soup.find_all(\"a\", href=re.compile(\"(%s|%s|%s|%s|%s|%s|%s|%s|%s|%s|%s|%s|%s|%s|%s|%s|%s|%s|%s|%s|%s|%s|%s|%s|%s)\" % (re1, re2, re3, re4, re5, re6, re7, re8, re9, re10, re11, re12, re13, re14, re15, re16, re17, re18, re19, re20, re21, re22, re23, re24, re25)))\n",
    "    for row in listings:\n",
    "        page_data = 'https://www.zoocasa.com'+row['href']\n",
    "        #if page_data not in mylist:\n",
    "        house_links.append(page_data)\n",
    "    next_page = driver.find_element_by_xpath('/html/body/div[3]/div/div/dynamic-listings-page/section/item-group/loading-data/pagination-nav/a[2]').click()\n",
    "    time.sleep(5)\n",
    "    driver.current_url\n",
    "    soup = BeautifulSoup(driver.page_source, 'html.parser') \n",
    "    "
   ]
  },
  {
   "cell_type": "code",
   "execution_count": null,
   "metadata": {
    "scrolled": true
   },
   "outputs": [],
   "source": [
    "print(house_links)"
   ]
  },
  {
   "cell_type": "code",
   "execution_count": null,
   "metadata": {},
   "outputs": [],
   "source": [
    "print(len(leased_house_links))"
   ]
  },
  {
   "cell_type": "code",
   "execution_count": null,
   "metadata": {},
   "outputs": [],
   "source": [
    "test=set(leased_house_links)\n",
    "print(len(test))\n",
    "type(test)"
   ]
  },
  {
   "cell_type": "code",
   "execution_count": null,
   "metadata": {},
   "outputs": [],
   "source": [
    "leased_house_links2=sorted(test)"
   ]
  },
  {
   "cell_type": "code",
   "execution_count": null,
   "metadata": {},
   "outputs": [],
   "source": [
    "file_name = r\"C:\\Users\\17059\\Desktop\\Final Project\\zoocasa\\house_links\\leased\\leased_house_links_%s_%s.txt\" % (str(time.strftime(\"%Y-%m-%d\")),str(time.strftime(\"%H%M%S\")))\n",
    "with open(file_name, 'a') as f:\n",
    "    for item in leased_house_links2:\n",
    "        f.write(\"%s\\n\" % item)"
   ]
  },
  {
   "cell_type": "code",
   "execution_count": null,
   "metadata": {},
   "outputs": [],
   "source": []
  }
 ],
 "metadata": {
  "kernelspec": {
   "display_name": "Python 3",
   "language": "python",
   "name": "python3"
  },
  "language_info": {
   "codemirror_mode": {
    "name": "ipython",
    "version": 3
   },
   "file_extension": ".py",
   "mimetype": "text/x-python",
   "name": "python",
   "nbconvert_exporter": "python",
   "pygments_lexer": "ipython3",
   "version": "3.7.1"
  }
 },
 "nbformat": 4,
 "nbformat_minor": 2
}
