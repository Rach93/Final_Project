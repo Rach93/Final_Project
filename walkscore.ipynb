{
 "cells": [
  {
   "cell_type": "markdown",
   "metadata": {},
   "source": [
    "## Walkscore\n",
    "\n",
    "This script finds the walkscore for each of the addressess. Walkscore is a number which gives the walkability score of an address, it basically tells us how easily errands can be accomplished on foot from an address.\n",
    "\n",
    "- 90-100: Walker’s Paradise (Daily errands do not require a car)\n",
    "- 70-89: Very Walkable (Most errands can be accomplished on foot)\n",
    "- 50-69: Somewhat Walkable (Some errands can be accomplished on foot)\n",
    "- 25-49: Car-Dependent (Most errands require a car)\n",
    "- 0-24: Car-Dependent (Almost all errands require a car)"
   ]
  },
  {
   "cell_type": "code",
   "execution_count": null,
   "metadata": {},
   "outputs": [],
   "source": [
    "import pandas as pd\n",
    "import time\n",
    "from walkscore import WalkScoreAPI\n",
    "\n",
    "f = open(\"walkscore_api.txt\", \"r\")\n",
    "api_key=f.read()\n",
    "\n",
    "walkscore_api = WalkScoreAPI(api_key = api_key)\n",
    "\n",
    "df=pd.read_csv(r\"C:\\Users\\17059\\Desktop\\Final Project\\leased_geocoded_2019-11-07_000323.csv\")"
   ]
  },
  {
   "cell_type": "code",
   "execution_count": null,
   "metadata": {},
   "outputs": [],
   "source": [
    "df.shape"
   ]
  },
  {
   "cell_type": "code",
   "execution_count": null,
   "metadata": {},
   "outputs": [],
   "source": [
    "df1=df[2000:2626]"
   ]
  },
  {
   "cell_type": "code",
   "execution_count": null,
   "metadata": {},
   "outputs": [],
   "source": [
    "def get_walkscore(latitude, longitude, address):\n",
    "    \n",
    "    result = walkscore_api.get_score(latitude, longitude, address)\n",
    "    return result.walk_score"
   ]
  },
  {
   "cell_type": "code",
   "execution_count": null,
   "metadata": {},
   "outputs": [],
   "source": [
    "df1['walkscore']  = df1.apply(lambda x: get_walkscore(x['lat'], x['lng'], x['Address']), axis=1)"
   ]
  },
  {
   "cell_type": "code",
   "execution_count": null,
   "metadata": {},
   "outputs": [],
   "source": [
    "print(df1)"
   ]
  },
  {
   "cell_type": "code",
   "execution_count": null,
   "metadata": {},
   "outputs": [],
   "source": [
    "file_name = r\"C:\\Users\\17059\\Desktop\\Final Project\\walkscore\\leased\\leased_walkscore_%s_%s.csv\" % (str(time.strftime(\"%Y-%m-%d\")),str(time.strftime(\"%H%M%S\")))\n",
    "pd.DataFrame(df1).to_csv(file_name, index = False, encoding = \"UTF-8\",header=True)"
   ]
  },
  {
   "cell_type": "code",
   "execution_count": null,
   "metadata": {},
   "outputs": [],
   "source": []
  }
 ],
 "metadata": {
  "kernelspec": {
   "display_name": "Python 3",
   "language": "python",
   "name": "python3"
  },
  "language_info": {
   "codemirror_mode": {
    "name": "ipython",
    "version": 3
   },
   "file_extension": ".py",
   "mimetype": "text/x-python",
   "name": "python",
   "nbconvert_exporter": "python",
   "pygments_lexer": "ipython3",
   "version": "3.7.1"
  }
 },
 "nbformat": 4,
 "nbformat_minor": 2
}
